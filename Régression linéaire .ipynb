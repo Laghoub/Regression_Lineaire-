{
 "cells": [
  {
   "cell_type": "markdown",
   "id": "02e57ad7",
   "metadata": {},
   "source": [
    "# Importation des packages"
   ]
  },
  {
   "cell_type": "code",
   "execution_count": 2,
   "id": "204734e9",
   "metadata": {},
   "outputs": [],
   "source": [
    "import numpy as np\n",
    "import matplotlib.pyplot as plt \n",
    "from sklearn.datasets import make_regression \n",
    "from sklearn.linear_model import SGDRegressor"
   ]
  },
  {
   "cell_type": "markdown",
   "id": "4b767e7b",
   "metadata": {},
   "source": [
    "# Générer un dataset aléatoire "
   ]
  },
  {
   "cell_type": "code",
   "execution_count": 3,
   "id": "101b6cda",
   "metadata": {},
   "outputs": [
    {
     "data": {
      "text/plain": [
       "<matplotlib.collections.PathCollection at 0x1a5e41e1d00>"
      ]
     },
     "execution_count": 3,
     "metadata": {},
     "output_type": "execute_result"
    },
    {
     "data": {
      "image/png": "[encoded data removed]",
      "text/plain": [
       "<Figure size 432x288 with 1 Axes>"
      ]
     },
     "metadata": {
      "needs_background": "light"
     },
     "output_type": "display_data"
    }
   ],
   "source": [
    "np.random.seed(0) # pour toujours reproduire le meme dataset\n",
    "x, y = make_regression(n_samples=100, n_features=1, noise=10)\n",
    "plt.scatter(x, y) # afficher les résultats. X en abscisse et y en ordonnée"
   ]
  },
  {
   "cell_type": "code",
   "execution_count": 4,
   "id": "c7cd4313",
   "metadata": {},
   "outputs": [
    {
     "name": "stdout",
     "output_type": "stream",
     "text": [
      "(100, 1)\n",
      "(100,)\n",
      "(100, 1)\n"
     ]
    }
   ],
   "source": [
    "print(x.shape)\n",
    "print(y.shape)\n",
    "\n",
    "# redimensionner y\n",
    "y = y.reshape(y.shape[0], 1)\n",
    "\n",
    "print(y.shape)"
   ]
  },
  {
   "cell_type": "code",
   "execution_count": 16,
   "id": "7b679206",
   "metadata": {},
   "outputs": [
    {
     "name": "stdout",
     "output_type": "stream",
     "text": [
      "(100, 2)\n"
     ]
    },
    {
     "data": {
      "text/plain": [
       "array([[-0.35955316,  1.        ],\n",
       "       [ 0.97663904,  1.        ],\n",
       "       [ 0.40234164,  1.        ],\n",
       "       [-0.81314628,  1.        ],\n",
       "       [-0.88778575,  1.        ],\n",
       "       [ 0.44386323,  1.        ],\n",
       "       [-0.97727788,  1.        ],\n",
       "       [ 0.42833187,  1.        ],\n",
       "       [ 0.20827498,  1.        ],\n",
       "       [-0.31155253,  1.        ],\n",
       "       [-0.51080514,  1.        ],\n",
       "       [ 0.12691209,  1.        ],\n",
       "       [-1.53624369,  1.        ],\n",
       "       [-0.40178094,  1.        ],\n",
       "       [ 0.6536186 ,  1.        ],\n",
       "       [ 1.17877957,  1.        ],\n",
       "       [-0.17992484,  1.        ],\n",
       "       [ 1.78587049,  1.        ],\n",
       "       [ 1.45427351,  1.        ],\n",
       "       [-0.68481009,  1.        ],\n",
       "       [ 0.97873798,  1.        ],\n",
       "       [ 1.89588918,  1.        ],\n",
       "       [-0.4380743 ,  1.        ],\n",
       "       [ 0.3130677 ,  1.        ],\n",
       "       [ 0.76103773,  1.        ],\n",
       "       [ 0.77749036,  1.        ],\n",
       "       [ 1.9507754 ,  1.        ],\n",
       "       [ 0.33367433,  1.        ],\n",
       "       [-0.34791215,  1.        ],\n",
       "       [ 1.53277921,  1.        ],\n",
       "       [-0.89546656,  1.        ],\n",
       "       [-0.57884966,  1.        ],\n",
       "       [-1.04855297,  1.        ],\n",
       "       [ 0.37816252,  1.        ],\n",
       "       [ 0.01050002,  1.        ],\n",
       "       [ 0.46278226,  1.        ],\n",
       "       [ 0.14404357,  1.        ],\n",
       "       [-0.40317695,  1.        ],\n",
       "       [ 0.0519454 ,  1.        ],\n",
       "       [-1.25279536,  1.        ],\n",
       "       [ 1.05445173,  1.        ],\n",
       "       [ 0.40015721,  1.        ],\n",
       "       [-1.70627019,  1.        ],\n",
       "       [ 2.2408932 ,  1.        ],\n",
       "       [ 0.17742614,  1.        ],\n",
       "       [-0.20515826,  1.        ],\n",
       "       [ 1.23029068,  1.        ],\n",
       "       [-0.85409574,  1.        ],\n",
       "       [ 1.76405235,  1.        ],\n",
       "       [ 0.4105985 ,  1.        ],\n",
       "       [-0.90729836,  1.        ],\n",
       "       [-1.42001794,  1.        ],\n",
       "       [ 0.46566244,  1.        ],\n",
       "       [ 0.90082649,  1.        ],\n",
       "       [ 1.13940068,  1.        ],\n",
       "       [ 0.40198936,  1.        ],\n",
       "       [ 0.3869025 ,  1.        ],\n",
       "       [-1.7262826 ,  1.        ],\n",
       "       [ 1.46935877,  1.        ],\n",
       "       [-0.18718385,  1.        ],\n",
       "       [-0.87079715,  1.        ],\n",
       "       [ 0.3024719 ,  1.        ],\n",
       "       [ 1.20237985,  1.        ],\n",
       "       [-1.98079647,  1.        ],\n",
       "       [-2.55298982,  1.        ],\n",
       "       [-1.45436567,  1.        ],\n",
       "       [-0.02818223,  1.        ],\n",
       "       [ 0.15494743,  1.        ],\n",
       "       [ 1.22244507,  1.        ],\n",
       "       [ 1.86755799,  1.        ],\n",
       "       [ 2.26975462,  1.        ],\n",
       "       [-0.74216502,  1.        ],\n",
       "       [ 0.06651722,  1.        ],\n",
       "       [ 1.49407907,  1.        ],\n",
       "       [-0.67246045,  1.        ],\n",
       "       [-1.63019835,  1.        ],\n",
       "       [ 0.12898291,  1.        ],\n",
       "       [ 0.95008842,  1.        ],\n",
       "       [ 1.48825219,  1.        ],\n",
       "       [ 0.05616534,  1.        ],\n",
       "       [ 0.8644362 ,  1.        ],\n",
       "       [ 0.70657317,  1.        ],\n",
       "       [-0.15135721,  1.        ],\n",
       "       [-1.07075262,  1.        ],\n",
       "       [-0.10321885,  1.        ],\n",
       "       [-0.30230275,  1.        ],\n",
       "       [-0.38732682,  1.        ],\n",
       "       [ 0.72909056,  1.        ],\n",
       "       [ 0.12167502,  1.        ],\n",
       "       [-0.50965218,  1.        ],\n",
       "       [-1.23482582,  1.        ],\n",
       "       [-0.21274028,  1.        ],\n",
       "       [-0.63432209,  1.        ],\n",
       "       [ 0.15634897,  1.        ],\n",
       "       [ 0.04575852,  1.        ],\n",
       "       [-1.16514984,  1.        ],\n",
       "       [-0.36274117,  1.        ],\n",
       "       [ 0.3563664 ,  1.        ],\n",
       "       [-1.61389785,  1.        ],\n",
       "       [-1.18063218,  1.        ]])"
      ]
     },
     "execution_count": 16,
     "metadata": {},
     "output_type": "execute_result"
    }
   ],
   "source": [
    "X = np.hstack((x, np.ones(x.shape)))\n",
    "print(X.shape)\n",
    "X"
   ]
  },
  {
   "cell_type": "code",
   "execution_count": 6,
   "id": "83e3ecee",
   "metadata": {},
   "outputs": [
    {
     "data": {
      "text/plain": [
       "array([[1.76405235],\n",
       "       [0.40015721]])"
      ]
     },
     "execution_count": 6,
     "metadata": {},
     "output_type": "execute_result"
    }
   ],
   "source": [
    "np.random.seed(0) # pour produire toujours le meme vecteur theta aléatoire\n",
    "theta = np.random.randn(2, 1)\n",
    "theta"
   ]
  },
  {
   "cell_type": "markdown",
   "id": "7edd249c",
   "metadata": {},
   "source": [
    "# Construction du modele"
   ]
  },
  {
   "cell_type": "code",
   "execution_count": 7,
   "id": "3a34363f",
   "metadata": {},
   "outputs": [],
   "source": [
    "def model(X, theta):\n",
    "    return X.dot(theta)"
   ]
  },
  {
   "cell_type": "code",
   "execution_count": 8,
   "id": "77bb4a9d",
   "metadata": {},
   "outputs": [
    {
     "data": {
      "text/plain": [
       "[<matplotlib.lines.Line2D at 0x1a5e42ce910>]"
      ]
     },
     "execution_count": 8,
     "metadata": {},
     "output_type": "execute_result"
    },
    {
     "data": {
      "image/png": "[encoded data removed]",
      "text/plain": [
       "<Figure size 432x288 with 1 Axes>"
      ]
     },
     "metadata": {
      "needs_background": "light"
     },
     "output_type": "display_data"
    }
   ],
   "source": [
    "plt.scatter(x, y)\n",
    "plt.plot(x, model(X, theta), c='r')"
   ]
  },
  {
   "cell_type": "markdown",
   "id": "a26b1b7a",
   "metadata": {},
   "source": [
    "# Fonction cout"
   ]
  },
  {
   "cell_type": "markdown",
   "id": "2caf9fd0",
   "metadata": {},
   "source": [
    "A travers cette fonction, on va calculer l'erreur commise par notre modele"
   ]
  },
  {
   "cell_type": "code",
   "execution_count": 9,
   "id": "557382b4",
   "metadata": {},
   "outputs": [],
   "source": [
    "def cost_function(X, y, theta):\n",
    "    m = len(y)\n",
    "    return 1/(2*m) * np.sum((model(X, theta) - y)**2)"
   ]
  },
  {
   "cell_type": "code",
   "execution_count": 22,
   "id": "da1a5ce5",
   "metadata": {},
   "outputs": [
    {
     "data": {
      "text/plain": [
       "905.6306841935502"
      ]
     },
     "execution_count": 22,
     "metadata": {},
     "output_type": "execute_result"
    }
   ],
   "source": [
    "cost_function(X, y, theta)"
   ]
  },
  {
   "cell_type": "markdown",
   "id": "15e49898",
   "metadata": {},
   "source": [
    "# Calcul du gradient"
   ]
  },
  {
   "cell_type": "code",
   "execution_count": 11,
   "id": "30a90310",
   "metadata": {},
   "outputs": [],
   "source": [
    "def grad(X, y, theta):\n",
    "    m = len(y)\n",
    "    return 1/m * X.T.dot(model(X, theta) - y)"
   ]
  },
  {
   "cell_type": "markdown",
   "id": "69ccf0e8",
   "metadata": {},
   "source": [
    "# Calcul de la descente gradient"
   ]
  },
  {
   "cell_type": "code",
   "execution_count": 12,
   "id": "67a94ac4",
   "metadata": {},
   "outputs": [],
   "source": [
    "def gradient_descent(X, y, theta, learning_rate, n_iterations):\n",
    "    \n",
    "    cost_history = np.zeros(n_iterations) # création d'un tableau de stockage pour enregistrer l'évolution du Cout du modele\n",
    "    \n",
    "    for i in range(0, n_iterations):\n",
    "        theta = theta - learning_rate * grad(X, y, theta) # mise a jour du parametre theta (formule du gradient descent)\n",
    "        cost_history[i] = cost_function(X, y, theta) # on enregistre la valeur du Cout au tour i dans cost_history[i]\n",
    "        \n",
    "    return theta, cost_history"
   ]
  },
  {
   "cell_type": "code",
   "execution_count": 13,
   "id": "562073af",
   "metadata": {},
   "outputs": [],
   "source": [
    "n_iterations = 1000\n",
    "learning_rate = 0.01\n",
    "\n",
    "\n",
    "theta_final, cost_history = gradient_descent(X, y, theta, learning_rate, n_iterations)"
   ]
  },
  {
   "cell_type": "code",
   "execution_count": 14,
   "id": "fa049e70",
   "metadata": {},
   "outputs": [
    {
     "data": {
      "text/plain": [
       "[<matplotlib.lines.Line2D at 0x1a5e530b190>]"
      ]
     },
     "execution_count": 14,
     "metadata": {},
     "output_type": "execute_result"
    },
    {
     "data": {
      "image/png": "[encoded data removed]",
      "text/plain": [
       "<Figure size 432x288 with 1 Axes>"
      ]
     },
     "metadata": {
      "needs_background": "light"
     },
     "output_type": "display_data"
    }
   ],
   "source": [
    "# création d'un vecteur prédictions qui contient les prédictions de notre modele final\n",
    "predictions = model(X, theta_final)\n",
    "\n",
    "# Affiche les résultats de prédictions (en rouge) par rapport a notre Dataset (en bleu)\n",
    "plt.scatter(x, y)\n",
    "plt.plot(x, predictions, c='r')"
   ]
  },
  {
   "cell_type": "code",
   "execution_count": 15,
   "id": "c28a28b7",
   "metadata": {},
   "outputs": [
    {
     "data": {
      "text/plain": [
       "[<matplotlib.lines.Line2D at 0x1a5e535d040>]"
      ]
     },
     "execution_count": 15,
     "metadata": {},
     "output_type": "execute_result"
    },
    {
     "data": {
      "image/png": "[encoded data removed]",
      "text/plain": [
       "<Figure size 432x288 with 1 Axes>"
      ]
     },
     "metadata": {
      "needs_background": "light"
     },
     "output_type": "display_data"
    }
   ],
   "source": [
    "plt.plot(range(n_iterations), cost_history)"
   ]
  },
  {
   "cell_type": "markdown",
   "id": "52addb59",
   "metadata": {},
   "source": [
    "# Evaluation du modele"
   ]
  },
  {
   "cell_type": "code",
   "execution_count": 26,
   "id": "46ec44c5",
   "metadata": {},
   "outputs": [],
   "source": [
    "def coeff_determination(y,pred):\n",
    "    u=((y-pred)**2).sum()\n",
    "    v=((y-y.mean())**2).sum()\n",
    "    return 1-u/v"
   ]
  },
  {
   "cell_type": "code",
   "execution_count": 27,
   "id": "e445d60f",
   "metadata": {},
   "outputs": [
    {
     "data": {
      "text/plain": [
       "0.9417294706504984"
      ]
     },
     "execution_count": 27,
     "metadata": {},
     "output_type": "execute_result"
    }
   ],
   "source": [
    "coeff_determination(y,predictions)"
   ]
  }
 ],
 "metadata": {
  "kernelspec": {
   "display_name": "Python 3",
   "language": "python",
   "name": "python3"
  },
  "language_info": {
   "codemirror_mode": {
    "name": "ipython",
    "version": 3
   },
   "file_extension": ".py",
   "mimetype": "text/x-python",
   "name": "python",
   "nbconvert_exporter": "python",
   "pygments_lexer": "ipython3",
   "version": "3.8.8"
  }
 },
 "nbformat": 4,
 "nbformat_minor": 5
}
